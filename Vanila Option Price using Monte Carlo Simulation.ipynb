{
 "cells": [
  {
   "cell_type": "code",
   "execution_count": 1,
   "metadata": {},
   "outputs": [],
   "source": [
    "%%timeit -n 5 -r 10\n",
    "\n",
    "from scipy.stats import norm\n",
    "import math as m\n",
    "import numpy as np\n",
    "import pandas as pd\n",
    "\n",
    "S = 11870.65 #Initial Price\n",
    "K = 12000 #Strike Price\n",
    "T = 20/365 #Time to maturity\n",
    "d = 1 #Number of time steps\n",
    "V = 0.1033 #Volatility\n",
    "r = 0.10 #risk free rate\n",
    "t = T/d #time for each time step\n",
    "n = 100000 #number of simulations\n",
    "\n",
    "x = np.random.uniform(0,1,n)\n",
    "z = norm.ppf(x)\n",
    "\n",
    "Option_Dataframe = pd.DataFrame({'Random Variable': x,'Probability':z, 'Strike_Price':K})\n",
    "\n",
    "Option_Dataframe['Stock_Price_T'] = S*np.e**((r - (V**2)/2)*t+V*m.sqrt(t)*Option_Dataframe['Probability'])\n",
    "\n",
    "\n",
    "Option_Dataframe.loc[(Option_Dataframe.Stock_Price_T > K), 'Option_Price_T'] = Option_Dataframe['Stock_Price_T'] - Option_Dataframe['Strike_Price']\n",
    "Option_Dataframe.loc[(Option_Dataframe.Stock_Price_T <= K), 'Option_Price_T'] = 0\n",
    "\n",
    "Option_price = (np.sum(Option_Dataframe['Option_Price_T'])*np.e**(-r*T))/n\n",
    "print(Option_price)"
   ]
  },
  {
   "cell_type": "code",
   "execution_count": null,
   "metadata": {},
   "outputs": [],
   "source": []
  }
 ],
 "metadata": {
  "kernelspec": {
   "display_name": "Python 3",
   "language": "python",
   "name": "python3"
  },
  "language_info": {
   "codemirror_mode": {
    "name": "ipython",
    "version": 3
   },
   "file_extension": ".py",
   "mimetype": "text/x-python",
   "name": "python",
   "nbconvert_exporter": "python",
   "pygments_lexer": "ipython3",
   "version": "3.7.3"
  }
 },
 "nbformat": 4,
 "nbformat_minor": 2
}
