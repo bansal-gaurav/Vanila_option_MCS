{
 "cells": [
  {
   "cell_type": "code",
   "execution_count": 37,
   "metadata": {},
   "outputs": [
    {
     "name": "stdout",
     "output_type": "stream",
     "text": [
      "86.568203784906\n",
      "85.55538796094658\n",
      "86.31867987917684\n",
      "86.49816801143842\n",
      "85.72826207087557\n",
      "86.52452500473399\n",
      "85.76075776031485\n",
      "85.24547356548928\n",
      "85.10263411070687\n",
      "87.07874913807316\n",
      "86.21794494405229\n",
      "85.45259340522516\n",
      "85.42902377235762\n",
      "84.95963101523216\n",
      "85.87150693871901\n",
      "85.18537288524783\n",
      "86.06134288197937\n",
      "85.89312406492564\n",
      "86.14354168334262\n",
      "85.75368635953944\n",
      "86.11720671934279\n",
      "85.42852919010063\n",
      "86.0955061155586\n",
      "85.0474884113202\n",
      "85.42252784777729\n",
      "85.22324706226605\n",
      "86.39955704827698\n",
      "85.57531843513188\n",
      "85.33690912539647\n",
      "85.58708061882764\n",
      "85.53674275251173\n",
      "86.56870973588268\n",
      "86.34072776658597\n",
      "85.44828766585654\n",
      "85.6108908099383\n",
      "86.11413891303042\n",
      "85.14974301156839\n",
      "85.12375073571539\n",
      "84.42021806649944\n",
      "84.73898368189687\n",
      "85.80173508473293\n",
      "84.87093430538054\n",
      "85.15207367786572\n",
      "85.73818363488289\n",
      "86.26417485195618\n",
      "84.79540942140866\n",
      "85.95057645643325\n",
      "86.10492226092659\n",
      "86.32872715213739\n",
      "86.22951205815407\n",
      "114 ms ± 19.6 ms per loop (mean ± std. dev. of 10 runs, 5 loops each)\n"
     ]
    }
   ],
   "source": [
    "%%timeit -n 5 -r 10\n",
    "\n",
    "from scipy.stats import norm\n",
    "import math as m\n",
    "import numpy as np\n",
    "import pandas as pd\n",
    "\n",
    "S = 11870.65 #Initial Price\n",
    "K = 12000 #Strike Price\n",
    "T = 20/365 #Time to maturity\n",
    "d = 1 #Number of time steps\n",
    "V = 0.1033 #Volatility\n",
    "r = 0.10 #risk free rate\n",
    "t = T/d #time for each time step\n",
    "n = 100000 #number of simulations\n",
    "\n",
    "x = np.random.uniform(0,1,n)\n",
    "z = norm.ppf(x)\n",
    "\n",
    "Option_Dataframe = pd.DataFrame({'Random Variable': x,'Probability':z, 'Strike_Price':K})\n",
    "\n",
    "Option_Dataframe['Stock_Price_T'] = S*np.e**((r - (V**2)/2)*t+V*m.sqrt(t)*Option_Dataframe['Probability'])\n",
    "\n",
    "\n",
    "Option_Dataframe.loc[(Option_Dataframe.Stock_Price_T > K), 'Option_Price_T'] = Option_Dataframe['Stock_Price_T'] - Option_Dataframe['Strike_Price']\n",
    "Option_Dataframe.loc[(Option_Dataframe.Stock_Price_T <= K), 'Option_Price_T'] = 0\n",
    "\n",
    "Option_price = (np.sum(Option_Dataframe['Option_Price_T'])*np.e**(-r*T))/n\n",
    "print(Option_price)"
   ]
  },
  {
   "cell_type": "code",
   "execution_count": null,
   "metadata": {},
   "outputs": [],
   "source": []
  }
 ],
 "metadata": {
  "kernelspec": {
   "display_name": "Python 3",
   "language": "python",
   "name": "python3"
  },
  "language_info": {
   "codemirror_mode": {
    "name": "ipython",
    "version": 3
   },
   "file_extension": ".py",
   "mimetype": "text/x-python",
   "name": "python",
   "nbconvert_exporter": "python",
   "pygments_lexer": "ipython3",
   "version": "3.7.3"
  }
 },
 "nbformat": 4,
 "nbformat_minor": 2
}
